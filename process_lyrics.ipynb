{
 "cells": [
  {
   "cell_type": "code",
   "execution_count": 1,
   "metadata": {},
   "outputs": [],
   "source": [
    "import pandas as pd\n",
    "import re\n",
    "import spacy\n",
    "\n",
    "\n",
    "from spacy.language import Language\n",
    "from spacy_language_detection import LanguageDetector"
   ]
  },
  {
   "cell_type": "code",
   "execution_count": 2,
   "metadata": {},
   "outputs": [],
   "source": [
    "df = pd.read_pickle(\"data/all_songs_with_lyrics.pkl\")\n",
    "df = df[[\"artist_names\", \"name\", \"playlist\", \"lyrics\"]]"
   ]
  },
  {
   "cell_type": "code",
   "execution_count": 3,
   "metadata": {},
   "outputs": [],
   "source": [
    "def clean_lyrics(lyrics: str) -> str:\n",
    "    \"\"\"\n",
    "        Clean up lyrics:\n",
    "            remove beginning up to and including the first occurrence of \"Lyrics\"\n",
    "            remove everything between []\n",
    "            remove numbers+Embed at the end\n",
    "    \"\"\"\n",
    "    if not pd.isnull(lyrics):\n",
    "        # remove beginning up to and including the first occurrence of \"Lyrics\"\n",
    "        beginning_index = lyrics.find(\"Lyrics\") + len(\"Lyrics\")\n",
    "        new_lyrics = lyrics[beginning_index:]\n",
    "        \n",
    "        # remove everything between [], like [Refrain]\n",
    "        # This doesn't work with nested brackets\n",
    "        new_lyrics = re.sub(\"[\\[].*?[\\]]\", \"\", new_lyrics)\n",
    "\n",
    "        # remove numbers and Embed at the end of the Lyrics, e.g. 11Embed\n",
    "        new_lyrics = re.sub(\"[0-9]*Embed$\", \"\", new_lyrics)\n",
    "        return new_lyrics\n",
    "    else:\n",
    "        return None\n",
    "\n",
    "df[\"clean_lyrics\"] = df.apply(lambda song: clean_lyrics(song[\"lyrics\"]), axis=1)\n"
   ]
  },
  {
   "cell_type": "code",
   "execution_count": 6,
   "metadata": {},
   "outputs": [
    {
     "data": {
      "text/plain": [
       "False    1931\n",
       "True      353\n",
       "Name: clean_lyrics, dtype: int64"
      ]
     },
     "execution_count": 6,
     "metadata": {},
     "output_type": "execute_result"
    }
   ],
   "source": [
    "df[\"clean_lyrics\"].isnull().value_counts()"
   ]
  },
  {
   "cell_type": "code",
   "execution_count": 7,
   "metadata": {},
   "outputs": [
    {
     "data": {
      "text/plain": [
       "False    1931\n",
       "True      353\n",
       "Name: lyrics, dtype: int64"
      ]
     },
     "execution_count": 7,
     "metadata": {},
     "output_type": "execute_result"
    }
   ],
   "source": [
    "df[\"lyrics\"].isnull().value_counts()"
   ]
  },
  {
   "cell_type": "code",
   "execution_count": null,
   "metadata": {},
   "outputs": [],
   "source": [
    "# If you run into spacy error, you will need to install the language package:\n",
    "# !python -m spacy download en_core_web_sm"
   ]
  },
  {
   "cell_type": "code",
   "execution_count": 8,
   "metadata": {},
   "outputs": [
    {
     "data": {
      "text/plain": [
       "<spacy_language_detection.spacy_language_detector.LanguageDetector at 0x1075a8c10>"
      ]
     },
     "execution_count": 8,
     "metadata": {},
     "output_type": "execute_result"
    }
   ],
   "source": [
    "# Idea from this blog: https://towardsdatascience.com/4-python-libraries-to-detect-english-and-non-english-language-c82ad3efd430\n",
    "def get_lang_detector(nlp, name):\n",
    "    return LanguageDetector(seed=42)  # We use the seed 42\n",
    "\n",
    "nlp_model = spacy.load(\"en_core_web_sm\")\n",
    "Language.factory(\"language_detector\", func=get_lang_detector)\n",
    "nlp_model.add_pipe('language_detector', last=True)"
   ]
  },
  {
   "cell_type": "code",
   "execution_count": 9,
   "metadata": {},
   "outputs": [],
   "source": [
    "# Language table downloaded from\n",
    "# https://en.wikipedia.org/wiki/List_of_ISO_639-1_codes\n",
    "language_map = (\n",
    "    pd.read_csv(\"data/languages.csv\", delimiter=';')\n",
    "    .rename(columns={\"ISO language name\": \"language\", \"ISO-639-1-Code\": \"language_code\"})\n",
    "    .set_index(\"language_code\")\n",
    "    .to_dict()\n",
    "    [\"language\"]\n",
    ")\n",
    "# {'ab': 'Abkhazian',\n",
    "#  'aa': 'Afar',\n",
    "#  'af': 'Afrikaans',\n",
    "#  'ak': 'Akan',\n",
    "#  'sq': 'Albanian'}"
   ]
  },
  {
   "cell_type": "code",
   "execution_count": 10,
   "metadata": {},
   "outputs": [],
   "source": [
    "\n",
    "def get_language(text: str) -> str:\n",
    "    \"\"\"return language estimated by nlp_model, this is in ISO 639-1 codes\"\"\"\n",
    "    doc = nlp_model(text)\n",
    "    language_code = doc._.language.get(\"language\", None)\n",
    "    return language_map.get(language_code, None)"
   ]
  },
  {
   "cell_type": "code",
   "execution_count": 11,
   "metadata": {},
   "outputs": [],
   "source": [
    "df[\"language\"] = df.apply(lambda song: get_language(song[\"clean_lyrics\"]) if not pd.isnull(song[\"clean_lyrics\"]) else None, axis=1)"
   ]
  },
  {
   "cell_type": "code",
   "execution_count": 12,
   "metadata": {},
   "outputs": [],
   "source": [
    "df[\"has_lyrics\"] = ~df[\"clean_lyrics\"].isnull()"
   ]
  },
  {
   "cell_type": "code",
   "execution_count": 13,
   "metadata": {},
   "outputs": [
    {
     "data": {
      "text/html": [
       "<div>\n",
       "<style scoped>\n",
       "    .dataframe tbody tr th:only-of-type {\n",
       "        vertical-align: middle;\n",
       "    }\n",
       "\n",
       "    .dataframe tbody tr th {\n",
       "        vertical-align: top;\n",
       "    }\n",
       "\n",
       "    .dataframe thead th {\n",
       "        text-align: right;\n",
       "    }\n",
       "</style>\n",
       "<table border=\"1\" class=\"dataframe\">\n",
       "  <thead>\n",
       "    <tr style=\"text-align: right;\">\n",
       "      <th></th>\n",
       "      <th></th>\n",
       "      <th></th>\n",
       "      <th>artist_names</th>\n",
       "      <th>name</th>\n",
       "      <th>lyrics</th>\n",
       "      <th>clean_lyrics</th>\n",
       "    </tr>\n",
       "    <tr>\n",
       "      <th>playlist</th>\n",
       "      <th>has_lyrics</th>\n",
       "      <th>language</th>\n",
       "      <th></th>\n",
       "      <th></th>\n",
       "      <th></th>\n",
       "      <th></th>\n",
       "    </tr>\n",
       "  </thead>\n",
       "  <tbody>\n",
       "    <tr>\n",
       "      <th rowspan=\"8\" valign=\"top\">Après Ski</th>\n",
       "      <th>False</th>\n",
       "      <th>NaN</th>\n",
       "      <td>103</td>\n",
       "      <td>103</td>\n",
       "      <td>0</td>\n",
       "      <td>0</td>\n",
       "    </tr>\n",
       "    <tr>\n",
       "      <th rowspan=\"7\" valign=\"top\">True</th>\n",
       "      <th>Dutch, Flemish</th>\n",
       "      <td>77</td>\n",
       "      <td>77</td>\n",
       "      <td>77</td>\n",
       "      <td>77</td>\n",
       "    </tr>\n",
       "    <tr>\n",
       "      <th>English</th>\n",
       "      <td>42</td>\n",
       "      <td>42</td>\n",
       "      <td>42</td>\n",
       "      <td>42</td>\n",
       "    </tr>\n",
       "    <tr>\n",
       "      <th>Estonian</th>\n",
       "      <td>1</td>\n",
       "      <td>1</td>\n",
       "      <td>1</td>\n",
       "      <td>1</td>\n",
       "    </tr>\n",
       "    <tr>\n",
       "      <th>French</th>\n",
       "      <td>1</td>\n",
       "      <td>1</td>\n",
       "      <td>1</td>\n",
       "      <td>1</td>\n",
       "    </tr>\n",
       "    <tr>\n",
       "      <th>German</th>\n",
       "      <td>60</td>\n",
       "      <td>60</td>\n",
       "      <td>60</td>\n",
       "      <td>60</td>\n",
       "    </tr>\n",
       "    <tr>\n",
       "      <th>Indonesian</th>\n",
       "      <td>1</td>\n",
       "      <td>1</td>\n",
       "      <td>1</td>\n",
       "      <td>1</td>\n",
       "    </tr>\n",
       "    <tr>\n",
       "      <th>Spanish, Castilian</th>\n",
       "      <td>1</td>\n",
       "      <td>1</td>\n",
       "      <td>1</td>\n",
       "      <td>1</td>\n",
       "    </tr>\n",
       "    <tr>\n",
       "      <th rowspan=\"14\" valign=\"top\">Top 2000</th>\n",
       "      <th>False</th>\n",
       "      <th>NaN</th>\n",
       "      <td>250</td>\n",
       "      <td>250</td>\n",
       "      <td>0</td>\n",
       "      <td>0</td>\n",
       "    </tr>\n",
       "    <tr>\n",
       "      <th rowspan=\"13\" valign=\"top\">True</th>\n",
       "      <th>Afrikaans</th>\n",
       "      <td>5</td>\n",
       "      <td>5</td>\n",
       "      <td>5</td>\n",
       "      <td>5</td>\n",
       "    </tr>\n",
       "    <tr>\n",
       "      <th>Danish</th>\n",
       "      <td>1</td>\n",
       "      <td>1</td>\n",
       "      <td>1</td>\n",
       "      <td>1</td>\n",
       "    </tr>\n",
       "    <tr>\n",
       "      <th>Dutch, Flemish</th>\n",
       "      <td>211</td>\n",
       "      <td>211</td>\n",
       "      <td>211</td>\n",
       "      <td>211</td>\n",
       "    </tr>\n",
       "    <tr>\n",
       "      <th>English</th>\n",
       "      <td>1474</td>\n",
       "      <td>1474</td>\n",
       "      <td>1474</td>\n",
       "      <td>1474</td>\n",
       "    </tr>\n",
       "    <tr>\n",
       "      <th>French</th>\n",
       "      <td>16</td>\n",
       "      <td>16</td>\n",
       "      <td>16</td>\n",
       "      <td>16</td>\n",
       "    </tr>\n",
       "    <tr>\n",
       "      <th>German</th>\n",
       "      <td>20</td>\n",
       "      <td>20</td>\n",
       "      <td>20</td>\n",
       "      <td>20</td>\n",
       "    </tr>\n",
       "    <tr>\n",
       "      <th>Italian</th>\n",
       "      <td>10</td>\n",
       "      <td>10</td>\n",
       "      <td>10</td>\n",
       "      <td>10</td>\n",
       "    </tr>\n",
       "    <tr>\n",
       "      <th>Slovak</th>\n",
       "      <td>1</td>\n",
       "      <td>1</td>\n",
       "      <td>1</td>\n",
       "      <td>1</td>\n",
       "    </tr>\n",
       "    <tr>\n",
       "      <th>Somali</th>\n",
       "      <td>2</td>\n",
       "      <td>2</td>\n",
       "      <td>2</td>\n",
       "      <td>2</td>\n",
       "    </tr>\n",
       "    <tr>\n",
       "      <th>Spanish, Castilian</th>\n",
       "      <td>4</td>\n",
       "      <td>4</td>\n",
       "      <td>4</td>\n",
       "      <td>4</td>\n",
       "    </tr>\n",
       "    <tr>\n",
       "      <th>Turkish</th>\n",
       "      <td>2</td>\n",
       "      <td>2</td>\n",
       "      <td>2</td>\n",
       "      <td>2</td>\n",
       "    </tr>\n",
       "    <tr>\n",
       "      <th>Vietnamese</th>\n",
       "      <td>1</td>\n",
       "      <td>1</td>\n",
       "      <td>1</td>\n",
       "      <td>1</td>\n",
       "    </tr>\n",
       "    <tr>\n",
       "      <th>Welsh</th>\n",
       "      <td>1</td>\n",
       "      <td>1</td>\n",
       "      <td>1</td>\n",
       "      <td>1</td>\n",
       "    </tr>\n",
       "  </tbody>\n",
       "</table>\n",
       "</div>"
      ],
      "text/plain": [
       "                                         artist_names  name  lyrics  \\\n",
       "playlist  has_lyrics language                                         \n",
       "Après Ski False      NaN                          103   103       0   \n",
       "          True       Dutch, Flemish                77    77      77   \n",
       "                     English                       42    42      42   \n",
       "                     Estonian                       1     1       1   \n",
       "                     French                         1     1       1   \n",
       "                     German                        60    60      60   \n",
       "                     Indonesian                     1     1       1   \n",
       "                     Spanish, Castilian             1     1       1   \n",
       "Top 2000  False      NaN                          250   250       0   \n",
       "          True       Afrikaans                      5     5       5   \n",
       "                     Danish                         1     1       1   \n",
       "                     Dutch, Flemish               211   211     211   \n",
       "                     English                     1474  1474    1474   \n",
       "                     French                        16    16      16   \n",
       "                     German                        20    20      20   \n",
       "                     Italian                       10    10      10   \n",
       "                     Slovak                         1     1       1   \n",
       "                     Somali                         2     2       2   \n",
       "                     Spanish, Castilian             4     4       4   \n",
       "                     Turkish                        2     2       2   \n",
       "                     Vietnamese                     1     1       1   \n",
       "                     Welsh                          1     1       1   \n",
       "\n",
       "                                         clean_lyrics  \n",
       "playlist  has_lyrics language                          \n",
       "Après Ski False      NaN                            0  \n",
       "          True       Dutch, Flemish                77  \n",
       "                     English                       42  \n",
       "                     Estonian                       1  \n",
       "                     French                         1  \n",
       "                     German                        60  \n",
       "                     Indonesian                     1  \n",
       "                     Spanish, Castilian             1  \n",
       "Top 2000  False      NaN                            0  \n",
       "          True       Afrikaans                      5  \n",
       "                     Danish                         1  \n",
       "                     Dutch, Flemish               211  \n",
       "                     English                     1474  \n",
       "                     French                        16  \n",
       "                     German                        20  \n",
       "                     Italian                       10  \n",
       "                     Slovak                         1  \n",
       "                     Somali                         2  \n",
       "                     Spanish, Castilian             4  \n",
       "                     Turkish                        2  \n",
       "                     Vietnamese                     1  \n",
       "                     Welsh                          1  "
      ]
     },
     "execution_count": 13,
     "metadata": {},
     "output_type": "execute_result"
    }
   ],
   "source": [
    "df.groupby([\"playlist\", \"has_lyrics\", \"language\"], dropna=False).count()"
   ]
  },
  {
   "cell_type": "code",
   "execution_count": 14,
   "metadata": {},
   "outputs": [
    {
     "name": "stdout",
     "output_type": "stream",
     "text": [
      "\n",
      "All we ever hear from you is blah blah blah\n",
      "So, all we ever do is go ya ya ya\n",
      "And we don't even care about what they say cause it's\n",
      "Ya ya ya ya\n",
      "Blah blah blah blah\n",
      "\n",
      "All we ever hear from you is blah blah blah\n",
      "So, all we ever do is go ya ya ya\n",
      "And we don't even care about what they say cause it's\n",
      "Ya ya ya ya\n",
      "Blah blah blah blah\n",
      "\n",
      "All we ever hear from you is blah blah blah\n",
      "Blah blah blah\n",
      "Blah blah blah\n",
      "Blah blah blah\n",
      "Blah blah blah\n",
      "Blah blah blah\n",
      "Blah blah blah.....\n",
      "\n",
      "\n",
      "All we ever hear from you is blah blah blah\n",
      "So, all we ever do is go ya ya ya\n",
      "And we don't even care about what they say cause it's\n",
      "Ya ya ya ya\n",
      "Blah blah blah blah\n",
      "All we ever hear from you is blah blah blah\n",
      "So, all we ever do is go ya ya ya\n",
      "And we don't even care about what they say cause it's\n",
      "Ya ya ya ya\n",
      "Blah blah blah blah\n",
      "\n",
      "\n",
      "All we ever hear from you is blah blah blah\n",
      "So, all we ever do is go ya ya ya\n",
      "And we don't even care about what they say cause it's\n",
      "Ya ya ya ya\n",
      "Blah blah blah blah\n",
      "You might also likeAll we ever hear from you is blah blah blah\n",
      "So, all we ever do is go ya ya ya\n",
      "And we don't even care about what they say cause it's\n",
      "Ya ya ya ya\n",
      "Blah blah blah blah\n"
     ]
    }
   ],
   "source": [
    "print(df[df[\"language\"] == \"Indonesian\"][\"clean_lyrics\"].values[0])"
   ]
  },
  {
   "cell_type": "code",
   "execution_count": 15,
   "metadata": {},
   "outputs": [],
   "source": [
    "df.to_csv(\"data/all_songs_with_lyrics_cleaned.csv\", index_label=\"index\")"
   ]
  }
 ],
 "metadata": {
  "kernelspec": {
   "display_name": "apres-ski",
   "language": "python",
   "name": "python3"
  },
  "language_info": {
   "codemirror_mode": {
    "name": "ipython",
    "version": 3
   },
   "file_extension": ".py",
   "mimetype": "text/x-python",
   "name": "python",
   "nbconvert_exporter": "python",
   "pygments_lexer": "ipython3",
   "version": "3.9.15"
  },
  "orig_nbformat": 4,
  "vscode": {
   "interpreter": {
    "hash": "478056a9e1633caa1bb96a31d3f3e9f69efd98b6bb24dc34c33b3d104d8e79c9"
   }
  }
 },
 "nbformat": 4,
 "nbformat_minor": 2
}
