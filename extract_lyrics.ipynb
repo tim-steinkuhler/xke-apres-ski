{
 "cells": [
  {
   "cell_type": "code",
   "execution_count": null,
   "metadata": {},
   "outputs": [],
   "source": [
    "import pandas as pd\n",
    "\n",
    "from dotenv import dotenv_values\n",
    "from lyricsgenius import Genius\n",
    "from requests.exceptions import Timeout\n",
    "from time import sleep"
   ]
  },
  {
   "cell_type": "code",
   "execution_count": null,
   "metadata": {},
   "outputs": [],
   "source": [
    "config = dotenv_values(\".env\")\n",
    "output_path = \"data/all_songs_with_lyrics.pkl\""
   ]
  },
  {
   "cell_type": "code",
   "execution_count": null,
   "metadata": {},
   "outputs": [],
   "source": [
    "genius = Genius(config[\"GENIUS_CLIENT_ACCESS_TOKEN\"])"
   ]
  },
  {
   "cell_type": "code",
   "execution_count": null,
   "metadata": {},
   "outputs": [],
   "source": [
    "def get_lyrics(artist_name: str, song_name: str) -> str:\n",
    "    \"\"\"\n",
    "        Search for song and return lyrics if it is found\n",
    "    \"\"\"\n",
    "    song = genius.search_song(song_name, artist_name)\n",
    "    if song:\n",
    "        return song.lyrics\n",
    "    else:\n",
    "        return None\n"
   ]
  },
  {
   "cell_type": "code",
   "execution_count": null,
   "metadata": {},
   "outputs": [],
   "source": [
    "df_apres_ski = pd.read_pickle(\"data/df_apres_ski.pkl\")\n",
    "df_top_2000 = pd.read_pickle(\"data/df_top_2000.pkl\")\n"
   ]
  },
  {
   "cell_type": "code",
   "execution_count": null,
   "metadata": {},
   "outputs": [],
   "source": [
    "df_all_songs = (\n",
    "    pd.concat(\n",
    "        [\n",
    "            df_apres_ski.assign(playlist=\"Après Ski\"),\n",
    "            df_top_2000.assign(playlist=\"Top 2000\"),\n",
    "        ]\n",
    "    )\n",
    "    .reset_index(drop=True)\n",
    ")"
   ]
  },
  {
   "cell_type": "code",
   "execution_count": null,
   "metadata": {},
   "outputs": [],
   "source": [
    "df_all_songs_with_lyrics = pd.read_pickle(output_path)"
   ]
  },
  {
   "cell_type": "code",
   "execution_count": null,
   "metadata": {},
   "outputs": [],
   "source": [
    "# I put this in, in case I want to try getting lyrics data for songs we didn't find before\n",
    "if df_all_songs[\"id\"].equals(df_all_songs_with_lyrics[\"id\"]):\n",
    "    df_all_songs = df_all_songs_with_lyrics\n",
    "else:\n",
    "    df_all_songs[\"lyrics\"] = None"
   ]
  },
  {
   "cell_type": "code",
   "execution_count": null,
   "metadata": {},
   "outputs": [],
   "source": [
    "# Based on:\n",
    "# https://github.com/johnwmillr/LyricsGenius/issues/121\n",
    "for i, song in df_all_songs.iterrows():\n",
    "    artist_name = song[\"artist_names\"]\n",
    "    song_name = song[\"name\"]\n",
    "    print(f\"{i:04d}/{len(df_all_songs)}: {artist_name} - {song_name}\")\n",
    "    if pd.isnull(song[\"lyrics\"]):\n",
    "        print(\"looking for lyrics\")\n",
    "        retries = 0\n",
    "        while retries < 3:\n",
    "            try:\n",
    "                df_all_songs.loc[i, \"lyrics\"] = get_lyrics(song[\"artist_names\"], song[\"name\"])\n",
    "            except Timeout as e:\n",
    "                retries += 1\n",
    "                print(\"Encountered a TimeOut\")\n",
    "                sleep(30)\n",
    "                continue\n",
    "            break\n",
    "        # Try to avoid time outs\n",
    "        sleep(2)\n",
    "    else:\n",
    "        print(\"already have lyrics\")"
   ]
  },
  {
   "cell_type": "code",
   "execution_count": null,
   "metadata": {},
   "outputs": [],
   "source": [
    "df_all_songs[\"has_lyrics\"] = ~df_all_songs[\"lyrics\"].isnull()"
   ]
  },
  {
   "cell_type": "code",
   "execution_count": null,
   "metadata": {},
   "outputs": [],
   "source": [
    "df_all_songs.groupby([\"playlist\", \"has_lyrics\"]).count()[\"id\"]"
   ]
  },
  {
   "attachments": {},
   "cell_type": "markdown",
   "metadata": {},
   "source": [
    "With more time, I might try a few more things to extract more data, like\n",
    "- cleaning up the song and / or artist name.\n",
    "- add some retry logic like this: "
   ]
  },
  {
   "cell_type": "code",
   "execution_count": null,
   "metadata": {},
   "outputs": [],
   "source": [
    "df_all_songs.to_pickle(output_path)"
   ]
  }
 ],
 "metadata": {
  "kernelspec": {
   "display_name": "apres-ski",
   "language": "python",
   "name": "python3"
  },
  "language_info": {
   "codemirror_mode": {
    "name": "ipython",
    "version": 3
   },
   "file_extension": ".py",
   "mimetype": "text/x-python",
   "name": "python",
   "nbconvert_exporter": "python",
   "pygments_lexer": "ipython3",
   "version": "3.9.15"
  },
  "orig_nbformat": 4,
  "vscode": {
   "interpreter": {
    "hash": "478056a9e1633caa1bb96a31d3f3e9f69efd98b6bb24dc34c33b3d104d8e79c9"
   }
  }
 },
 "nbformat": 4,
 "nbformat_minor": 2
}
