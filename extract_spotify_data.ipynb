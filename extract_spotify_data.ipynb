{
 "cells": [
  {
   "cell_type": "code",
   "execution_count": null,
   "metadata": {},
   "outputs": [],
   "source": [
    "import pandas as pd\n",
    "import spotipy\n",
    "from spotipy.oauth2 import SpotifyOAuth\n",
    "\n",
    "from dotenv import dotenv_values"
   ]
  },
  {
   "cell_type": "code",
   "execution_count": null,
   "metadata": {},
   "outputs": [],
   "source": [
    "config = dotenv_values(\".env\")"
   ]
  },
  {
   "cell_type": "code",
   "execution_count": null,
   "metadata": {},
   "outputs": [],
   "source": [
    "scope = \"playlist-modify-public\"\n",
    "\n",
    "sp = spotipy.Spotify(\n",
    "    auth_manager=SpotifyOAuth(\n",
    "        client_id=config[\"CLIENT_ID\"],\n",
    "        client_secret=config[\"CLIENT_SECRET\"],\n",
    "        redirect_uri=config[\"REDIRECT_URL\"],\n",
    "        scope=scope\n",
    "    )\n",
    ")\n"
   ]
  },
  {
   "cell_type": "code",
   "execution_count": null,
   "metadata": {},
   "outputs": [],
   "source": [
    "playlist_track_features = [\"id\", \"artists\", \"name\", \"album\",\n",
    "                   \"external_urls\", \"popularity\"]\n",
    "required_album_features = [\"genres\", \"name\", \"release_date\"]\n",
    "\n",
    "def extract_artist_names(artists_series) -> str:\n",
    "    \"\"\"\"\"\"\n",
    "    return_value = []\n",
    "    for artists_list in artists_series:\n",
    "        artist_names_list = [artist[\"name\"] for artist in artists_list]\n",
    "        if len(artist_names_list) == 1:\n",
    "            artist_names = artist_names_list[0]\n",
    "        else:\n",
    "            artist_names = \", \".join(artist_names_list[:-1]) + \" & \" + artist_names_list[-1]\n",
    "\n",
    "        return_value.append(artist_names)\n",
    "    return return_value\n",
    "\n",
    "def get_all_tracks_in_playlist(playlist_id: str, limit: int=100) -> pd.DataFrame:\n",
    "    \"\"\" Get some information on all tracks in a playlist and return as pd.DataFrame\"\"\"\n",
    "\n",
    "    results = sp.playlist_tracks(playlist_id, limit=limit)\n",
    "    tracks = [item[\"track\"] for item in results[\"items\"]]\n",
    "    n_total = results[\"total\"]\n",
    "    print(f\"Tracks Loaded (Out of Total): {len(tracks)} ({n_total})\")\n",
    "\n",
    "    while len(tracks) < results[\"total\"]:\n",
    "        results = sp.playlist_tracks(playlist_id, limit=limit, offset=len(tracks))\n",
    "        tracks = tracks + [item[\"track\"] for item in results[\"items\"]]\n",
    "        print(f\"Tracks Loaded (Out of Total): {len(tracks)} ({n_total})\")\n",
    "    \n",
    "    return (\n",
    "        pd.DataFrame(tracks)[playlist_track_features]\n",
    "        .assign(album_id=lambda track: track[\"album\"].str.get(\"id\"))\n",
    "        .assign(artist_names=lambda track: extract_artist_names(track[\"artists\"]))\n",
    "        .dropna(subset=[\"id\", \"album_id\"])\n",
    "    )\n",
    "\n",
    "def get_audio_features_df(sp, track_ids, query_limit: int=50) -> pd.DataFrame:\n",
    "    \"\"\"\n",
    "    Get track audio features and return a pandas dataframe\n",
    "    \"\"\"\n",
    "\n",
    "    n_total = len(track_ids)\n",
    "    result_list = []\n",
    "    i = 0\n",
    "    while len(result_list) < n_total:\n",
    "        _track_ids = track_ids[i: min(i + query_limit, n_total)]\n",
    "        result_list += sp.audio_features(_track_ids)\n",
    "        i = len(result_list)\n",
    "        print(f\"Audio Features Loaded for {i} ({n_total})\")\n",
    "\n",
    "    return pd.DataFrame(result_list)\n",
    "\n",
    "\n",
    "def get_album_features_df(\n",
    "    sp, track_df: pd.DataFrame, query_limit: int=20\n",
    ") -> pd.DataFrame:\n",
    "    \"\"\"\n",
    "    Get album features and return a pandas dataframe\n",
    "    \"\"\"\n",
    "    n_total = len(track_df)\n",
    "    result_list = []\n",
    "    i = 0\n",
    "    while len(result_list) < len(track_df):\n",
    "        _album_ids = list(track_df[\"album_id\"].values)[i:min(i + query_limit, n_total)]\n",
    "        results = sp.albums(_album_ids)\n",
    "        result_list += results[\"albums\"]\n",
    "        i = len(result_list)\n",
    "        print(f\"Album Features Loaded for {i} ({n_total})\")\n",
    "\n",
    "    return (\n",
    "        pd.DataFrame(result_list)\n",
    "        [required_album_features]\n",
    "        .rename(columns={col_name: f\"album_{col_name}\" for col_name in required_album_features})\n",
    "    )"
   ]
  },
  {
   "cell_type": "code",
   "execution_count": null,
   "metadata": {},
   "outputs": [],
   "source": [
    "def get_full_track_data_for_playlist(playlist_id: str) -> pd.DataFrame:\n",
    "    \"\"\"\n",
    "    Combine outputs of\n",
    "        - get_all_tracks_in_playlist,\n",
    "        - get_audio_features_df and\n",
    "        - get_album_features_df\n",
    "    \"\"\"\n",
    "    df_playlist_tracks = get_all_tracks_in_playlist(playlist_id)\n",
    "    df_track_audio_features = get_audio_features_df(sp, list(df_playlist_tracks[\"id\"]))\n",
    "    df_track_album_features = get_album_features_df(sp, df_playlist_tracks)\n",
    "\n",
    "    return (\n",
    "        df_playlist_tracks.set_index(\"id\")\n",
    "        .join(df_track_audio_features.set_index(\"id\"))\n",
    "        .join(df_track_album_features.set_index(df_playlist_tracks[\"id\"]))\n",
    "        .reset_index()\n",
    "    )\n"
   ]
  },
  {
   "cell_type": "code",
   "execution_count": null,
   "metadata": {},
   "outputs": [],
   "source": [
    "df_apres_ski = get_full_track_data_for_playlist(\"6GxKiCYFF6QxUX6z2SoP2E\")\n",
    "df_apres_ski[\"album_img_url\"] = df_apres_ski[\"album\"].str.get(\"images\").str[0].str.get(\"url\")\n",
    "df_apres_ski.to_pickle(\"data/df_apres_ski.pkl\")"
   ]
  },
  {
   "cell_type": "code",
   "execution_count": null,
   "metadata": {},
   "outputs": [],
   "source": [
    "df_top_2000 = get_full_track_data_for_playlist(\"1DTzz7Nh2rJBnyFbjsH1Mh\")\n",
    "df_top_2000[\"album_img_url\"] = df_top_2000[\"album\"].str.get(\"images\").str[0].str.get(\"url\")\n",
    "df_top_2000.to_pickle(\"data/df_top_2000.pkl\")"
   ]
  }
 ],
 "metadata": {
  "kernelspec": {
   "display_name": "apres-ski",
   "language": "python",
   "name": "python3"
  },
  "language_info": {
   "codemirror_mode": {
    "name": "ipython",
    "version": 3
   },
   "file_extension": ".py",
   "mimetype": "text/x-python",
   "name": "python",
   "nbconvert_exporter": "python",
   "pygments_lexer": "ipython3",
   "version": "3.9.15 (main, Nov 24 2022, 08:28:41) \n[Clang 14.0.6 ]"
  },
  "orig_nbformat": 4,
  "vscode": {
   "interpreter": {
    "hash": "478056a9e1633caa1bb96a31d3f3e9f69efd98b6bb24dc34c33b3d104d8e79c9"
   }
  }
 },
 "nbformat": 4,
 "nbformat_minor": 2
}
