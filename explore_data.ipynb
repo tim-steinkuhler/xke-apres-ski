{
 "cells": [
  {
   "cell_type": "code",
   "execution_count": null,
   "metadata": {},
   "outputs": [],
   "source": [
    "\n",
    "import base64\n",
    "import pandas as pd\n",
    "import requests\n",
    "import seaborn as sns\n",
    "import spotipy\n",
    "\n",
    "from dotenv import dotenv_values\n",
    "from IPython.display import HTML, display\n",
    "from matplotlib import pyplot\n",
    "from time import sleep\n",
    "from spotipy.oauth2 import SpotifyOAuth"
   ]
  },
  {
   "cell_type": "code",
   "execution_count": null,
   "metadata": {},
   "outputs": [],
   "source": [
    "config = dotenv_values(\".env\")"
   ]
  },
  {
   "cell_type": "code",
   "execution_count": null,
   "metadata": {},
   "outputs": [],
   "source": [
    "scope = \"user-modify-playback-state app-remote-control streaming user-read-playback-state\"\n",
    "\n",
    "sp = spotipy.Spotify(\n",
    "    auth_manager=SpotifyOAuth(\n",
    "        client_id=config[\"SPOTIFY_CLIENT_ID\"],\n",
    "        client_secret=config[\"SPOTIFY_CLIENT_SECRET\"],\n",
    "        redirect_uri=config[\"SPOTIFY_REDIRECT_URL\"],\n",
    "        scope=scope\n",
    "    )\n",
    ")\n"
   ]
  },
  {
   "cell_type": "code",
   "execution_count": null,
   "metadata": {},
   "outputs": [],
   "source": [
    "devices_df = pd.DataFrame(sp.devices()[\"devices\"])\n",
    "device_id = devices_df[devices_df[\"name\"] == \"Tim’s MacBook Pro (2)\"][\"id\"].values[0]"
   ]
  },
  {
   "cell_type": "code",
   "execution_count": null,
   "metadata": {},
   "outputs": [],
   "source": [
    "def display_two_images(img_url_1, img_url_2: str, text_1: str, text_2: str) -> None:\n",
    "    \"\"\"\n",
    "    \"\"\"\n",
    "    html_template = \"\"\"\n",
    "        <div class=\"row\">\n",
    "            <div style=\"float:left;margin-right:30px;width:300px\">{text_1}</div>\n",
    "            <div style=\"float:left;margin-right:30px;width:300px\">{text_2}</div>\n",
    "        </div>\n",
    "        <div style=\"clear:both\"></div>\n",
    "        <div class=\"row\">\n",
    "            <img style=\"float:left;margin-right:30px;\" src=\"data:image/jpeg;base64,{b64_img_1}\" width=\"300\" height=\"300\" />\n",
    "            <img style=\"float:left;margin-right:30px;\" src=\"data:image/jpeg;base64,{b64_img_2}\" width=\"300\" height=\"300\" />\n",
    "        </div>\n",
    "    \"\"\"\n",
    "    img_bytes_1 = requests.get(img_url_1).content\n",
    "    img_bytes_2 = requests.get(img_url_2).content\n",
    "    b64_img_1 =  base64.b64encode(img_bytes_1).decode('ascii')\n",
    "    b64_img_2 =  base64.b64encode(img_bytes_2).decode('ascii')\n",
    "    txt = \"sjfa;\\nakd;f\\nsdfa\"\n",
    "    display(\n",
    "        HTML(\n",
    "            html_template.format(\n",
    "                text_1=text_1, text_2=text_2, b64_img_1=b64_img_1,b64_img_2=b64_img_2\n",
    "            )\n",
    "        )\n",
    "    )\n"
   ]
  },
  {
   "cell_type": "code",
   "execution_count": null,
   "metadata": {},
   "outputs": [],
   "source": [
    "def play_middle_of_track(device_id: str, track_series: pd.Series, n_seconds: int=9) -> None:\n",
    "    \"\"\"Play n_seconds on device starting from the middle of the track\"\"\"\n",
    "    sp.start_playback(\n",
    "        device_id=device_id,\n",
    "        uris=[track_series[\"uri\"]],\n",
    "        position_ms=track_series[\"duration_ms\"] / 2\n",
    "    )\n",
    "    sleep(n_seconds)\n",
    "    sp.pause_playback(device_id=device_id)\n",
    "\n",
    "def play_audio_feature_extremes(tracks_df, audio_feature, pause_seconds: int=2) -> None:\n",
    "    \"\"\"\"\"\"\n",
    "    min_track = tracks_df.sort_values(by=audio_feature, ascending=True).iloc[0]\n",
    "    max_track = tracks_df.sort_values(by=audio_feature, ascending=False).iloc[0]\n",
    "    \n",
    "    display_two_images(\n",
    "        min_track[\"album_img_url\"],\n",
    "        max_track[\"album_img_url\"],\n",
    "        f\"Lowest {audio_feature}({min_track[audio_feature]}): <br />{min_track['artist_names']} - {min_track['name']}\",\n",
    "        f\"Highest {audio_feature}({max_track[audio_feature]}): <br />{max_track['artist_names']} - {max_track['name']}\",\n",
    "    )\n",
    "\n",
    "    play_middle_of_track(device_id, min_track)\n",
    "\n",
    "    sleep(pause_seconds)\n",
    "    \n",
    "    play_middle_of_track(device_id, max_track)"
   ]
  },
  {
   "cell_type": "code",
   "execution_count": null,
   "metadata": {},
   "outputs": [],
   "source": [
    "df_apres_ski = pd.read_pickle(\"data/df_apres_ski.pkl\")\n",
    "df_top_2000 = pd.read_pickle(\"data/df_top_2000.pkl\")\n",
    "\n",
    "df_all_songs = (\n",
    "    pd.concat(\n",
    "        [\n",
    "            df_apres_ski.assign(playlist=\"Après Ski\"),\n",
    "            df_top_2000.assign(playlist=\"Top 2000\"),\n",
    "        ]\n",
    "    )\n",
    "    .assign(duration_minutes=lambda track: track[\"duration_ms\"] / 1000 / 60)\n",
    ")"
   ]
  },
  {
   "cell_type": "code",
   "execution_count": null,
   "metadata": {},
   "outputs": [],
   "source": [
    "df_apres_ski.head(1).T"
   ]
  },
  {
   "cell_type": "code",
   "execution_count": null,
   "metadata": {},
   "outputs": [],
   "source": [
    "df_all_songs = (\n",
    "    pd.concat(\n",
    "        [\n",
    "            df_apres_ski.assign(playlist=\"Après Ski\"),\n",
    "            df_top_2000.assign(playlist=\"Top 2000\"),\n",
    "        ]\n",
    "    )\n",
    "    .assign(duration_minutes=lambda track: track[\"duration_ms\"] / 1000 / 60)\n",
    ")"
   ]
  },
  {
   "cell_type": "code",
   "execution_count": null,
   "metadata": {},
   "outputs": [],
   "source": [
    "zero_to_one_scale = [\n",
    "    'acousticness',\n",
    "    'danceability',\n",
    "    'energy',\n",
    "    'instrumentalness',\n",
    "    'liveness',\n",
    "    'speechiness',\n",
    "    'valence',\n",
    "]\n",
    "other_features = ['duration_minutes', 'key', 'loudness', 'popularity', 'tempo']"
   ]
  },
  {
   "cell_type": "code",
   "execution_count": null,
   "metadata": {},
   "outputs": [],
   "source": [
    "df_to_melt = df_all_songs[[\"id\", \"playlist\"] + zero_to_one_scale + other_features]\n",
    "df_to_melt.head()"
   ]
  },
  {
   "cell_type": "code",
   "execution_count": null,
   "metadata": {},
   "outputs": [],
   "source": [
    "df_to_melt.shape"
   ]
  },
  {
   "cell_type": "code",
   "execution_count": null,
   "metadata": {},
   "outputs": [],
   "source": [
    "melted_df = pd.melt(\n",
    "    df_to_melt,\n",
    "    id_vars=[\"id\", \"playlist\"],\n",
    "    value_vars=zero_to_one_scale + other_features,\n",
    "    var_name=\"audio_feature\",\n",
    "    value_name=\"value\",\n",
    ")"
   ]
  },
  {
   "cell_type": "code",
   "execution_count": null,
   "metadata": {},
   "outputs": [],
   "source": [
    "melted_df.head()"
   ]
  },
  {
   "cell_type": "code",
   "execution_count": null,
   "metadata": {},
   "outputs": [],
   "source": [
    "melted_df.shape"
   ]
  },
  {
   "cell_type": "code",
   "execution_count": null,
   "metadata": {},
   "outputs": [],
   "source": [
    "a4_dims = (11.7, 8.27)\n",
    "fig, ax = pyplot.subplots(figsize=a4_dims)\n",
    "fig.suptitle('Zero-to-One Scale Audio Features')\n",
    "sns.violinplot(ax=ax, data=melted_df[melted_df[\"audio_feature\"].isin(zero_to_one_scale)], x=\"audio_feature\", y=\"value\", hue=\"playlist\", split=True)\n",
    "fig.savefig('images/zero_to_one_scale.png')"
   ]
  },
  {
   "attachments": {},
   "cell_type": "markdown",
   "metadata": {},
   "source": [
    "# What does this mean?!"
   ]
  },
  {
   "cell_type": "code",
   "execution_count": null,
   "metadata": {},
   "outputs": [],
   "source": [
    "play_audio_feature_extremes(df_apres_ski, \"acousticness\")\n"
   ]
  },
  {
   "cell_type": "code",
   "execution_count": null,
   "metadata": {},
   "outputs": [],
   "source": [
    "play_audio_feature_extremes(df_apres_ski, \"danceability\")"
   ]
  },
  {
   "cell_type": "code",
   "execution_count": null,
   "metadata": {},
   "outputs": [],
   "source": [
    "# play_audio_feature_extremes(df_apres_ski, \"energy\")"
   ]
  },
  {
   "cell_type": "code",
   "execution_count": null,
   "metadata": {},
   "outputs": [],
   "source": [
    "# play_audio_feature_extremes(df_apres_ski, \"liveness\")"
   ]
  },
  {
   "cell_type": "code",
   "execution_count": null,
   "metadata": {},
   "outputs": [],
   "source": [
    "play_audio_feature_extremes(df_apres_ski, \"instrumentalness\")\n",
    "# here we see that the lyrics don't need to be complex\n",
    "# and sometimes we don't even need words at all"
   ]
  },
  {
   "cell_type": "code",
   "execution_count": null,
   "metadata": {},
   "outputs": [],
   "source": [
    "# play_audio_feature_extremes(df_apres_ski, \"speechiness\")\n"
   ]
  },
  {
   "cell_type": "code",
   "execution_count": null,
   "metadata": {},
   "outputs": [],
   "source": [
    "play_audio_feature_extremes(df_apres_ski, \"valence\")"
   ]
  },
  {
   "cell_type": "code",
   "execution_count": null,
   "metadata": {},
   "outputs": [],
   "source": [
    "a4_dims = (11.7, 8.27)\n",
    "fig, axs = pyplot.subplots(1, len(other_features), figsize=a4_dims)\n",
    "fig.suptitle('Hetero-scale Audio Features')\n",
    "for i, feature in enumerate(other_features):\n",
    "    sns.violinplot(ax=axs[i], data=melted_df[melted_df[\"audio_feature\"] == feature], x=\"audio_feature\", y=\"value\", hue=\"playlist\", split=True)\n",
    "fig.savefig('images/other_features.png')"
   ]
  },
  {
   "cell_type": "code",
   "execution_count": null,
   "metadata": {},
   "outputs": [],
   "source": [
    "melted_df[melted_df[\"audio_feature\"].isin(zero_to_one_scale)].groupby([\"playlist\", \"audio_feature\"]).mean(numeric_only=True)"
   ]
  },
  {
   "cell_type": "code",
   "execution_count": null,
   "metadata": {},
   "outputs": [],
   "source": [
    "# a4_dims = (11.7, 8.27)\n",
    "# fig, ax = pyplot.subplots(figsize=a4_dims)\n",
    "# fig.suptitle('Zero-to-One Scale Audio Features')\n",
    "g = sns.catplot(\n",
    "    data=melted_df[melted_df[\"audio_feature\"].isin(zero_to_one_scale)],\n",
    "    kind=\"bar\",\n",
    "    x=\"audio_feature\", y=\"value\", hue=\"playlist\",\n",
    "    # height=6,\n",
    "    # width=11.7,\n",
    ")\n",
    "# Draw a nested barplot by species and sex\n",
    "# g = sns.catplot(\n",
    "#     data=melted, kind=\"bar\",\n",
    "#     x=\"species\", y=\"body_mass_g\", hue=\"sex\",\n",
    "#     errorbar=\"sd\", palette=\"dark\", alpha=.6, height=6\n",
    "# )\n",
    "# g.despine(left=True)\n",
    "# g.set_axis_labels(\"\", \"Body mass (g)\")\n",
    "# g.legend.set_title(\"\")\n",
    "\n",
    "\n",
    "# fig.savefig('other_features.png')\n"
   ]
  },
  {
   "cell_type": "code",
   "execution_count": null,
   "metadata": {},
   "outputs": [],
   "source": [
    "# Niet-woorden: in Hurra die Gams en in Atemlos durch die Nach"
   ]
  },
  {
   "cell_type": "code",
   "execution_count": null,
   "metadata": {},
   "outputs": [],
   "source": [
    "(\n",
    "    df_apres_ski.query(\"popularity >= 40\")\n",
    "    .sort_values(\"danceability\", ascending=False)\n",
    ")"
   ]
  },
  {
   "cell_type": "code",
   "execution_count": null,
   "metadata": {},
   "outputs": [],
   "source": [
    "(\n",
    "    df_apres_ski.query(\"popularity >= 40\")\n",
    "    .sort_values(\"acousticness\", ascending=False)\n",
    ")"
   ]
  },
  {
   "cell_type": "code",
   "execution_count": null,
   "metadata": {},
   "outputs": [],
   "source": []
  }
 ],
 "metadata": {
  "kernelspec": {
   "display_name": "apres-ski",
   "language": "python",
   "name": "python3"
  },
  "language_info": {
   "codemirror_mode": {
    "name": "ipython",
    "version": 3
   },
   "file_extension": ".py",
   "mimetype": "text/x-python",
   "name": "python",
   "nbconvert_exporter": "python",
   "pygments_lexer": "ipython3",
   "version": "3.9.15"
  },
  "orig_nbformat": 4,
  "vscode": {
   "interpreter": {
    "hash": "478056a9e1633caa1bb96a31d3f3e9f69efd98b6bb24dc34c33b3d104d8e79c9"
   }
  }
 },
 "nbformat": 4,
 "nbformat_minor": 2
}
