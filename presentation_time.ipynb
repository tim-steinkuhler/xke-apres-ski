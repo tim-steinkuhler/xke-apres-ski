{
 "cells": [
  {
   "cell_type": "code",
   "execution_count": null,
   "metadata": {},
   "outputs": [],
   "source": [
    "\n",
    "import base64\n",
    "import pandas as pd\n",
    "import requests\n",
    "import seaborn as sns\n",
    "import spotipy\n",
    "\n",
    "from dotenv import dotenv_values\n",
    "from IPython.display import HTML, display\n",
    "from matplotlib import pyplot\n",
    "from time import sleep\n",
    "from scipy.spatial.distance import pdist, squareform\n",
    "from spotipy.oauth2 import SpotifyOAuth"
   ]
  },
  {
   "cell_type": "code",
   "execution_count": null,
   "metadata": {},
   "outputs": [],
   "source": [
    "config = dotenv_values(\".env\")"
   ]
  },
  {
   "cell_type": "code",
   "execution_count": null,
   "metadata": {},
   "outputs": [],
   "source": [
    "scope = \"user-modify-playback-state app-remote-control streaming user-read-playback-state playlist-modify-public\"\n",
    "\n",
    "sp = spotipy.Spotify(\n",
    "    auth_manager=SpotifyOAuth(\n",
    "        client_id=config[\"SPOTIFY_CLIENT_ID\"],\n",
    "        client_secret=config[\"SPOTIFY_CLIENT_SECRET\"],\n",
    "        redirect_uri=config[\"SPOTIFY_REDIRECT_URL\"],\n",
    "        scope=scope\n",
    "    )\n",
    ")\n"
   ]
  },
  {
   "cell_type": "code",
   "execution_count": null,
   "metadata": {},
   "outputs": [],
   "source": [
    "devices_df = pd.DataFrame(sp.devices()[\"devices\"])\n",
    "device_id = devices_df[devices_df[\"name\"] == \"Tim’s MacBook Pro (2)\"][\"id\"].values[0]\n",
    "sp_user_id = sp.current_user()[\"id\"]\n",
    "\n",
    "# Create Playlist\n",
    "# sp.user_playlist_create(user=sp_user_id, name=\"Ultimate Xebia Apres Ski\", public=True)\n",
    "playlist_id = \"1D5wcDUc6Z9ZlXaItPgrd9\""
   ]
  },
  {
   "cell_type": "code",
   "execution_count": null,
   "metadata": {},
   "outputs": [],
   "source": [
    "def display_two_images(img_url_1, img_url_2: str, text_1: str, text_2: str) -> None:\n",
    "    \"\"\"\n",
    "    \"\"\"\n",
    "    html_template = \"\"\"\n",
    "        <div class=\"row\">\n",
    "            <div style=\"float:left;margin-right:30px;width:300px\">{text_1}</div>\n",
    "            <div style=\"float:left;margin-right:30px;width:300px\">{text_2}</div>\n",
    "        </div>\n",
    "        <div style=\"clear:both\"></div>\n",
    "        <div class=\"row\">\n",
    "            <img style=\"float:left;margin-right:30px;\" src=\"data:image/jpeg;base64,{b64_img_1}\" width=\"300\" height=\"300\" />\n",
    "            <img style=\"float:left;margin-right:30px;\" src=\"data:image/jpeg;base64,{b64_img_2}\" width=\"300\" height=\"300\" />\n",
    "        </div>\n",
    "    \"\"\"\n",
    "    img_bytes_1 = requests.get(img_url_1).content\n",
    "    img_bytes_2 = requests.get(img_url_2).content\n",
    "    b64_img_1 =  base64.b64encode(img_bytes_1).decode('ascii')\n",
    "    b64_img_2 =  base64.b64encode(img_bytes_2).decode('ascii')\n",
    "    txt = \"sjfa;\\nakd;f\\nsdfa\"\n",
    "    display(\n",
    "        HTML(\n",
    "            html_template.format(\n",
    "                text_1=text_1, text_2=text_2, b64_img_1=b64_img_1,b64_img_2=b64_img_2\n",
    "            )\n",
    "        )\n",
    "    )\n"
   ]
  },
  {
   "cell_type": "code",
   "execution_count": null,
   "metadata": {},
   "outputs": [],
   "source": [
    "def play_part_of_song(device_id: str, uri: str, start_position_ms: int, n_seconds: int=10) -> None:\n",
    "    \"\"\"Start playing a song and pause after duration_seconds\"\"\"\n",
    "    sp.start_playback(\n",
    "        device_id=device_id,\n",
    "        uris=[uri],\n",
    "        position_ms=start_position_ms\n",
    "    )\n",
    "    sleep(n_seconds)\n",
    "    sp.pause_playback(device_id=device_id)\n",
    "\n",
    "def play_middle_of_track(device_id: str, track_series: pd.Series, n_seconds: int=9) -> None:\n",
    "    \"\"\"Play n_seconds on device starting from the middle of the track\"\"\"\n",
    "    play_part_of_song(\n",
    "        device_id=device_id,\n",
    "        uri=track_series[\"uri\"],\n",
    "        start_position_ms=track_series[\"duration_ms\"] / 2,\n",
    "        n_seconds=n_seconds\n",
    "    )\n",
    "\n",
    "def play_audio_feature_extremes(tracks_df, audio_feature, pause_seconds: int=2) -> None:\n",
    "    \"\"\"\"\"\"\n",
    "    min_track = tracks_df.sort_values(by=audio_feature, ascending=True).iloc[0]\n",
    "    max_track = tracks_df.sort_values(by=audio_feature, ascending=False).iloc[0]\n",
    "    \n",
    "    display_two_images(\n",
    "        min_track[\"album_img_url\"],\n",
    "        max_track[\"album_img_url\"],\n",
    "        f\"Lowest {audio_feature}({min_track[audio_feature]}): <br />{min_track['artist_names']} - {min_track['name']}\",\n",
    "        f\"Highest {audio_feature}({max_track[audio_feature]}): <br />{max_track['artist_names']} - {max_track['name']}\",\n",
    "    )\n",
    "\n",
    "    play_middle_of_track(device_id, min_track)\n",
    "\n",
    "    sleep(pause_seconds)\n",
    "    \n",
    "    play_middle_of_track(device_id, max_track)"
   ]
  },
  {
   "cell_type": "code",
   "execution_count": null,
   "metadata": {},
   "outputs": [],
   "source": [
    "df_apres_ski = pd.read_pickle(\"data/df_apres_ski.pkl\")"
   ]
  },
  {
   "cell_type": "code",
   "execution_count": null,
   "metadata": {},
   "outputs": [],
   "source": [
    "df_all_songs = (\n",
    "    pd.read_pickle(\"data/all_songs_with_lyrics_cleaned.pkl\")\n",
    "    .assign(duration_minutes=lambda track: track[\"duration_ms\"] / 1000 / 60)\n",
    ")"
   ]
  },
  {
   "attachments": {},
   "cell_type": "markdown",
   "metadata": {},
   "source": [
    "# What do audio features this mean?!"
   ]
  },
  {
   "cell_type": "code",
   "execution_count": null,
   "metadata": {},
   "outputs": [],
   "source": [
    "play_audio_feature_extremes(df_apres_ski, \"acousticness\")\n"
   ]
  },
  {
   "cell_type": "code",
   "execution_count": null,
   "metadata": {},
   "outputs": [],
   "source": [
    "play_audio_feature_extremes(df_apres_ski, \"danceability\")"
   ]
  },
  {
   "cell_type": "code",
   "execution_count": null,
   "metadata": {},
   "outputs": [],
   "source": [
    "# play_audio_feature_extremes(df_apres_ski, \"energy\")"
   ]
  },
  {
   "cell_type": "code",
   "execution_count": null,
   "metadata": {},
   "outputs": [],
   "source": [
    "play_audio_feature_extremes(df_apres_ski, \"liveness\")"
   ]
  },
  {
   "cell_type": "code",
   "execution_count": null,
   "metadata": {},
   "outputs": [],
   "source": [
    "play_audio_feature_extremes(df_apres_ski, \"instrumentalness\")\n",
    "# here we see that the lyrics don't need to be complex\n",
    "# and sometimes we don't even need words at all"
   ]
  },
  {
   "cell_type": "code",
   "execution_count": null,
   "metadata": {},
   "outputs": [],
   "source": [
    "play_audio_feature_extremes(df_apres_ski, \"speechiness\")\n"
   ]
  },
  {
   "cell_type": "code",
   "execution_count": null,
   "metadata": {},
   "outputs": [],
   "source": [
    "play_audio_feature_extremes(df_apres_ski, \"valence\")"
   ]
  },
  {
   "attachments": {},
   "cell_type": "markdown",
   "metadata": {},
   "source": [
    "# This kind of reflects what I was thinking when my NLP efforts didn't pay off"
   ]
  },
  {
   "cell_type": "code",
   "execution_count": null,
   "metadata": {},
   "outputs": [],
   "source": [
    "\n",
    "track_series = df_apres_ski[df_apres_ski[\"id\"] == \"3S3Zrdg6WDjXTE8BfYGvE9\"].iloc[0]\n",
    "play_part_of_song(\n",
    "    device_id=device_id,\n",
    "    uri=track_series[\"uri\"],\n",
    "    start_position_ms=56000,\n",
    "    n_seconds=10\n",
    ")"
   ]
  },
  {
   "attachments": {},
   "cell_type": "markdown",
   "metadata": {},
   "source": [
    "# Then for a moment, I thought I was getting delusional"
   ]
  },
  {
   "cell_type": "code",
   "execution_count": null,
   "metadata": {},
   "outputs": [],
   "source": [
    "\n",
    "# track_series = df_apres_ski[df_apres_ski[\"id\"] == \"5urUqiBMwHBsDOpzwLWubS\"].iloc[0]\n",
    "play_part_of_song(\n",
    "    device_id=device_id,\n",
    "    uri=\"https://open.spotify.com/track/5urUqiBMwHBsDOpzwLWubS\",\n",
    "    start_position_ms=57000,\n",
    "    n_seconds=10\n",
    ")\n",
    "\n",
    "# https://open.spotify.com/track/5urUqiBMwHBsDOpzwLWubS?si=17f54d5f91b54869"
   ]
  },
  {
   "attachments": {},
   "cell_type": "markdown",
   "metadata": {},
   "source": [
    "## Based on this query I did a manual pre-selection to exclude songs you will need to learn outside of the office :-)"
   ]
  },
  {
   "cell_type": "code",
   "execution_count": null,
   "metadata": {},
   "outputs": [],
   "source": [
    "# (\n",
    "#     df_all_songs\n",
    "#     .query(\"playlist == 'Après Ski'\")\n",
    "#     .query(\"popularity >= 40\")\n",
    "#     .query(\"language == 'German'\") # This also excludes songs for which we don't have lyrics\n",
    "# )"
   ]
  },
  {
   "cell_type": "code",
   "execution_count": null,
   "metadata": {},
   "outputs": [],
   "source": [
    "# map song ids to starting point\n",
    "pre_selection = {\n",
    "    \"5Qht2aUJcCjRuhrlHvvKt2\": 84,\n",
    "    \"7KSOqRndT6D0d5Ok2yVrSh\": 48,\n",
    "    \"1hDNg43vCjUHSJSzETUHdN\": 50,\n",
    "    \"4HqlbB0BuahK05r6P2KcwP\": 49,\n",
    "    \"1RcWWgnw5fVm3wcNq11zBu\": 2,\n",
    "    \"6ksZJSo6h2OAlqQNQZEYIu\": 51,\n",
    "    \"1PGSrlMKPm4FsgZvHtOY2Q\": 27,\n",
    "    \"2A2PmKoiTzGbQRglDK0v2K\": 45,\n",
    "    \"2kjlOZ10YPK3deMN45l4bS\": 21,\n",
    "    \"2E68HPSmJxetiG8xjkNAJ3\": 15,\n",
    "    \"7gJc9SPshSHnLSqz2d0ETV\": 61,\n",
    "    \"65wKbNqjUTmdyk47Z31Czm\": 111,\n",
    "}\n"
   ]
  },
  {
   "cell_type": "code",
   "execution_count": null,
   "metadata": {},
   "outputs": [],
   "source": [
    "df_selection = df_apres_ski[df_apres_ski[\"id\"].isin(pre_selection.keys())]"
   ]
  },
  {
   "cell_type": "code",
   "execution_count": null,
   "metadata": {},
   "outputs": [],
   "source": [
    "scores = {\n",
    "    \"acousticness\":     {\"minimize\": 5, \"maximize\": 3},\n",
    "    \"danceability\":     {\"minimize\": 0, \"maximize\": 10},\n",
    "    \"liveness\":         {\"minimize\": 2, \"maximize\": 8},\n",
    "    \"speechiness\":      {\"minimize\": 6, \"maximize\": 4},\n",
    "    \"valence\":          {\"minimize\": 1, \"maximize\": 9},\n",
    "\n",
    "}"
   ]
  },
  {
   "cell_type": "code",
   "execution_count": null,
   "metadata": {},
   "outputs": [],
   "source": [
    "df_selection = df_selection[[\"id\", *scores.keys()]]\n",
    "selection_min = df_selection.min().to_dict()\n",
    "selection_max = df_selection.max().to_dict()\n",
    "selection_range = {feature: (selection_max[feature] - selection_min[feature]) for feature in scores.keys()}"
   ]
  },
  {
   "cell_type": "code",
   "execution_count": null,
   "metadata": {},
   "outputs": [],
   "source": [
    "positions = {\n",
    "    feature: votes[\"maximize\"] / (votes[\"minimize\"] + votes[\"maximize\"]) \n",
    "    for feature, votes in scores.items()\n",
    "}\n",
    "required_levels = {\n",
    "    feature: (selection_min[feature] + positions[feature] * selection_range[feature])\n",
    "    for feature in scores.keys()\n",
    "}\n"
   ]
  },
  {
   "cell_type": "code",
   "execution_count": null,
   "metadata": {},
   "outputs": [],
   "source": [
    "required_levels"
   ]
  },
  {
   "cell_type": "code",
   "execution_count": null,
   "metadata": {},
   "outputs": [],
   "source": [
    "required_levels[\"id\"] = \"required_levels\"\n",
    "df_required_levels = pd.DataFrame([required_levels], columns=df_selection.columns)"
   ]
  },
  {
   "cell_type": "code",
   "execution_count": null,
   "metadata": {},
   "outputs": [],
   "source": [
    "selection_plus_required = pd.concat([\n",
    "    df_selection,\n",
    "    df_required_levels\n",
    "    \n",
    "], ignore_index=True)"
   ]
  },
  {
   "cell_type": "code",
   "execution_count": null,
   "metadata": {},
   "outputs": [],
   "source": [
    "# Based on:\n",
    "# https://stackoverflow.com/questions/20303323/distance-calculation-between-rows-in-pandas-dataframe-using-a-distance-matrix\n",
    "distances = pdist(selection_plus_required[scores.keys()].values, metric='euclidean')\n",
    "dist_matrix = squareform(distances)"
   ]
  },
  {
   "cell_type": "code",
   "execution_count": null,
   "metadata": {},
   "outputs": [],
   "source": [
    "selection_plus_required[\"distance\"] = dist_matrix[-1]"
   ]
  },
  {
   "cell_type": "code",
   "execution_count": null,
   "metadata": {},
   "outputs": [],
   "source": [
    "winner_ids = (\n",
    "    list(selection_plus_required\n",
    "    [selection_plus_required[\"id\"] != \"required_levels\"]\n",
    "    .sort_values(\"distance\", ascending=True)\n",
    "    [\"id\"].values)\n",
    ")"
   ]
  },
  {
   "cell_type": "code",
   "execution_count": null,
   "metadata": {},
   "outputs": [],
   "source": [
    "winner_ids"
   ]
  },
  {
   "cell_type": "code",
   "execution_count": null,
   "metadata": {},
   "outputs": [],
   "source": [
    "\n",
    "sp.user_playlist_replace_tracks(\n",
    "    sp_user_id,\n",
    "    playlist_id=playlist_id,\n",
    "    tracks=winner_ids\n",
    "    )"
   ]
  },
  {
   "cell_type": "code",
   "execution_count": null,
   "metadata": {},
   "outputs": [],
   "source": [
    "# play top 3\n",
    "for id in winner_ids[:3]:\n",
    "    track_series = df_apres_ski[df_apres_ski[\"id\"] == id].iloc[0]\n",
    "    print(f'Playing {track_series[\"artist_names\"]} - {track_series[\"name\"]}')\n",
    "    play_part_of_song(\n",
    "        device_id=device_id,\n",
    "        uri=track_series[\"uri\"],\n",
    "        start_position_ms=pre_selection[id] * 1000,\n",
    "        n_seconds=10\n",
    "    )"
   ]
  },
  {
   "cell_type": "code",
   "execution_count": null,
   "metadata": {},
   "outputs": [],
   "source": [
    "import plotly.graph_objects as go\n",
    "import numpy as np"
   ]
  },
  {
   "cell_type": "code",
   "execution_count": null,
   "metadata": {},
   "outputs": [],
   "source": [
    "# x = list(range(1, len(scores.keys()) + 1))\n",
    "x = list(scores.keys())\n",
    "x_rev = x[::-1]"
   ]
  },
  {
   "cell_type": "code",
   "execution_count": null,
   "metadata": {},
   "outputs": [],
   "source": [
    "# Based on: https://plotly.com/python/line-charts/\n",
    "\n",
    "y_lower = [selection_min[feature] for feature in scores.keys()]\n",
    "y_lower = y_lower[::-1]\n",
    "y_upper = [selection_max[feature] for feature in scores.keys()]\n",
    "y_mean = [required_levels[feature] for feature in scores.keys()]\n",
    "\n",
    "\n",
    "gold_track = df_apres_ski[df_apres_ski[\"id\"] == winner_ids[0]].iloc[0].to_dict()\n",
    "y_gold_track = [gold_track[feature] for feature in scores.keys()]\n",
    "\n",
    "silver_track = df_apres_ski[df_apres_ski[\"id\"] == winner_ids[1]].iloc[0].to_dict()\n",
    "y_silver_track = [silver_track[feature] for feature in scores.keys()]\n",
    "\n",
    "bronze_track = df_apres_ski[df_apres_ski[\"id\"] == winner_ids[2]].iloc[0].to_dict()\n",
    "y_bronze_track = [bronze_track[feature] for feature in scores.keys()]\n",
    "\n",
    "\n",
    "fig = go.Figure()\n",
    "\n",
    "fig.add_trace(go.Scatter(\n",
    "    x=x+x_rev,\n",
    "    y=y_upper+y_lower,\n",
    "    fill='toself',\n",
    "    fillcolor='rgba(0,100,80,0.2)',\n",
    "    line_color='rgba(255,255,255,0)',\n",
    "    # showlegend=False,\n",
    "    name='Preselection',\n",
    "))\n",
    "fig.add_trace(go.Scatter(\n",
    "    x=x, y=y_mean,\n",
    "    line_color='rgb(0,100,80)',\n",
    "    name='Wisdom of Crowd',\n",
    "))\n",
    "\n",
    "fig.add_trace(go.Scatter(\n",
    "    x=x, y=y_gold_track,\n",
    "    line_color='gold',\n",
    "    name=gold_track[\"name\"],\n",
    "))\n",
    "\n",
    "fig.add_trace(go.Scatter(\n",
    "    x=x, y=y_silver_track,\n",
    "    line_color='darkgrey',\n",
    "    name=silver_track[\"name\"],\n",
    "))\n",
    "\n",
    "fig.add_trace(go.Scatter(\n",
    "    x=x, y=y_bronze_track,\n",
    "    line_color='brown',\n",
    "    name=bronze_track[\"name\"],\n",
    "))\n",
    "# fig.add_trace(go.Scatter(\n",
    "#     x=x, y=y3,\n",
    "#     line_color='rgb(231,107,243)',\n",
    "#     name='Ideal',\n",
    "# ))\n",
    "\n",
    "fig.update_traces(mode='lines')\n",
    "fig.show()\n"
   ]
  },
  {
   "cell_type": "code",
   "execution_count": null,
   "metadata": {},
   "outputs": [],
   "source": []
  }
 ],
 "metadata": {
  "kernelspec": {
   "display_name": "apres-ski",
   "language": "python",
   "name": "python3"
  },
  "language_info": {
   "codemirror_mode": {
    "name": "ipython",
    "version": 3
   },
   "file_extension": ".py",
   "mimetype": "text/x-python",
   "name": "python",
   "nbconvert_exporter": "python",
   "pygments_lexer": "ipython3",
   "version": "3.9.15"
  },
  "orig_nbformat": 4,
  "vscode": {
   "interpreter": {
    "hash": "478056a9e1633caa1bb96a31d3f3e9f69efd98b6bb24dc34c33b3d104d8e79c9"
   }
  }
 },
 "nbformat": 4,
 "nbformat_minor": 2
}
